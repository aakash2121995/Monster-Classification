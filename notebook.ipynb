{
 "cells": [
  {
   "cell_type": "markdown",
   "metadata": {},
   "source": [
    "\n",
    "\n",
    "A simple nice solution with tensorflow. (0.7446)\n",
    "------------------------------------------------\n"
   ]
  },
  {
   "cell_type": "code",
   "execution_count": null,
   "metadata": {
    "collapsed": true
   },
   "outputs": [],
   "source": [
    "# Import the libraries\n",
    "import pandas as pd\n",
    "import re\n",
    "import tensorflow as tf\n",
    "from tensorflow.contrib import learn\n",
    "import warnings\n",
    "warnings.filterwarnings('ignore')"
   ]
  },
  {
   "cell_type": "code",
   "execution_count": null,
   "metadata": {
    "collapsed": true
   },
   "outputs": [],
   "source": [
    "# Library for tensorflow logging\n",
    "import logging\n",
    "logging.getLogger().setLevel(logging.INFO)\n",
    "df = pd.read_csv(\"train.csv\")"
   ]
  },
  {
   "cell_type": "code",
   "execution_count": null,
   "metadata": {
    "collapsed": true
   },
   "outputs": [],
   "source": [
    "# Selecting features\n",
    "features = [\"bone_length\",\"rotting_flesh\",\"hair_length\",\"color\",\"has_soul\"]\n",
    "X = df[features]\n",
    "y = df[\"type\"]"
   ]
  },
  {
   "cell_type": "code",
   "execution_count": null,
   "metadata": {
    "collapsed": true
   },
   "outputs": [],
   "source": [
    "# Encoding type (Ghost,Ghouls,Goblin) and color\n",
    "from sklearn.preprocessing import LabelEncoder as LE\n",
    "letype = LE()\n",
    "y = letype.fit_transform(y)\n",
    "lecolor = LE()\n",
    "X[\"color\"] = lecolor.fit_transform(X[\"color\"])"
   ]
  },
  {
   "cell_type": "code",
   "execution_count": null,
   "metadata": {
    "collapsed": true
   },
   "outputs": [],
   "source": [
    "# splitting function used for cross validation\n",
    "from sklearn.cross_validation import train_test_split\n",
    "# current test size = 0 to permit the usage of whole training data\n",
    "X_train, X_test, y_train, y_test = train_test_split(X,y, test_size=0.0, random_state=9)"
   ]
  },
  {
   "cell_type": "code",
   "execution_count": null,
   "metadata": {
    "collapsed": true
   },
   "outputs": [],
   "source": [
    "# define a network with a single hidden RELU layer of 15 hidden units \n",
    "tf_clf_dnn = learn.DNNClassifier(hidden_units=[15], n_classes=3)\n",
    "tf_clf_dnn.fit(X_train, y_train,max_steps=5500)\n",
    "from sklearn.metrics import accuracy_score as as_\n",
    "# print(as_(y_test,tf_clf_dnn.predict(X_test)))\n",
    "print(as_(y_train,tf_clf_dnn.predict(X_train)))"
   ]
  },
  {
   "cell_type": "code",
   "execution_count": null,
   "metadata": {
    "collapsed": true
   },
   "outputs": [],
   "source": [
    "# Reading csv into test_df\n",
    "test_df = pd.read_csv(\"test.csv\")\n",
    "X_test = test_df[features]\n",
    "\n",
    "# Reading ID\n",
    "id_ = test_df[\"id\"]\n",
    "\n",
    "# Encoding color\n",
    "X_test[\"color\"] = lecolor.transform(X_test[\"color\"])\n",
    " \n",
    "# Prediction and Decoding into labels\n",
    "pred = tf_clf_dnn.predict(X_test)\n",
    "pred = letype.inverse_transform(pred)\n",
    "output = pd.DataFrame({\"id\": id_,\"type\":pred})\n",
    "output.to_csv('ghostPred.csv',index=False)"
   ]
  }
 ],
 "metadata": {
  "kernelspec": {
   "display_name": "Python 3",
   "language": "python",
   "name": "python3"
  },
  "language_info": {
   "codemirror_mode": {
    "name": "ipython",
    "version": 3
   },
   "file_extension": ".py",
   "mimetype": "text/x-python",
   "name": "python",
   "nbconvert_exporter": "python",
   "pygments_lexer": "ipython3",
   "version": "3.4.3"
  }
 },
 "nbformat": 4,
 "nbformat_minor": 0
}
